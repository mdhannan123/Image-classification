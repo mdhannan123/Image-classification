{
 "cells": [
  {
   "cell_type": "code",
   "execution_count": 76,
   "metadata": {},
   "outputs": [
    {
     "name": "stdout",
     "output_type": "stream",
     "text": [
      "\u001b[1m1/1\u001b[0m \u001b[32m━━━━━━━━━━━━━━━━━━━━\u001b[0m\u001b[37m\u001b[0m \u001b[1m0s\u001b[0m 161ms/step\n",
      "\u001b[1m1/1\u001b[0m \u001b[32m━━━━━━━━━━━━━━━━━━━━\u001b[0m\u001b[37m\u001b[0m \u001b[1m0s\u001b[0m 14ms/step\n",
      "Classified as: squirells with confidence 0.9880\n"
     ]
    }
   ],
   "source": [
    "def classify_image(image_path, model):\n",
    "    img = load_img(image_path, target_size=(img_width, img_height))\n",
    "    img_array = img_to_array(img)\n",
    "    img_array = np.expand_dims(img_array, axis=0)\n",
    "    img_array /= 255.0  # Rescale the image\n",
    "\n",
    "    bottleneck_feature = vgg16.predict(img_array)\n",
    "    prediction = model.predict(bottleneck_feature)\n",
    "    \n",
    "    max_confidence = np.max(prediction)\n",
    "    class_index = np.argmax(prediction)\n",
    "    class_label = list(generator_top.class_indices.keys())[class_index]\n",
    "    \n",
    "    # Define confidence thresholds based on class labels\n",
    "    if class_label in ['elephants', 'horses', 'squirells']:\n",
    "        confidence_threshold = 0.8  # Set threshold to 80% for specific classes\n",
    "    else:\n",
    "        confidence_threshold = 0.7  # Default threshold to 70% for other classes\n",
    "    \n",
    "    if max_confidence >= confidence_threshold:\n",
    "        return class_label, max_confidence, prediction\n",
    "    else:\n",
    "        return \"Unknown\", max_confidence, prediction\n",
    "\n",
    "# Example usage\n",
    "image_path = r\"data\\test\\squirells\\OIP-W4m8qDURcZP_0cEYqv7hmgHaE8.jpeg\"\n",
    "class_label, confidence, prediction = classify_image(image_path, model)\n",
    "\n",
    "if class_label == \"Unknown\":\n",
    "    print(f'The model is not confident in predicting any trained class with confidence {confidence:.4f}')\n",
    "else:\n",
    "    print(f'Classified as: {class_label} with confidence {confidence:.4f}')\n"
   ]
  }
 ],
 "metadata": {
  "kernelspec": {
   "display_name": "myenv",
   "language": "python",
   "name": "python3"
  },
  "language_info": {
   "codemirror_mode": {
    "name": "ipython",
    "version": 3
   },
   "file_extension": ".py",
   "mimetype": "text/x-python",
   "name": "python",
   "nbconvert_exporter": "python",
   "pygments_lexer": "ipython3",
   "version": "3.12.4"
  }
 },
 "nbformat": 4,
 "nbformat_minor": 2
}
